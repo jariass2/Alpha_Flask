{
 "cells": [
  {
   "cell_type": "code",
   "execution_count": 1,
   "metadata": {
    "id": "Rg0JU3iykllD"
   },
   "outputs": [],
   "source": [
    "import pandas as pd\n",
    "import datetime\n",
    "import os\n",
    "import re\n",
    "import subprocess\n",
    "from IPython.display import display\n",
    "import duckdb"
   ]
  },
  {
   "cell_type": "markdown",
   "metadata": {
    "id": "tZD3jA7dq8j9"
   },
   "source": [
    "# Configuracion"
   ]
  },
  {
   "cell_type": "code",
   "execution_count": 2,
   "metadata": {
    "colab": {
     "base_uri": "https://localhost:8080/"
    },
    "id": "-ze0dP-Tjkgj",
    "outputId": "fb655cd5-457a-4cd0-b412-ef34420349e4"
   },
   "outputs": [
    {
     "name": "stdout",
     "output_type": "stream",
     "text": [
      "Código de Franquiciado: 232\n",
      "Año: 2024\n",
      "Ruta de salida: /Users/jordiariassantaella/Python_Projects/Alpha_Espai/POC/SUMAS_Y_SALDOS/INTERMEDIATE/2322024_12.csv\n"
     ]
    }
   ],
   "source": [
    "# Ruta al archivo .accdb\n",
    "# Fixed base path\n",
    "base_path = '/Users/jordiariassantaella/Python_Projects/Alpha_Espai/POC/SUMAS_Y_SALDOS/'\n",
    "\n",
    "# Modified paths\n",
    "db_path = base_path\n",
    "db_path_INTERMEDIATE = base_path + 'INTERMEDIATE/'\n",
    "db_path_output = base_path + 'FINAL_RESULT/'\n",
    "\n",
    "file = \"2322024.accdb\"  # Cambiar el nombre del archivo según sea necesario\n",
    "#file = \"2302023.accdb\"  # Cambiar el nombre del archivo según sea necesario\n",
    "\n",
    "access_file_path = os.path.join(db_path, file)\n",
    "file_path = os.path.join(db_path_INTERMEDIATE, file)\n",
    "file_without_extension = os.path.splitext(file_path)[0]\n",
    "\n",
    "# Nombre de la tabla que deseas leer\n",
    "table_name = 'F_APU'  # Cambiar el nombre de la tabla según sea necesario\n",
    "\n",
    "# Obtener el mes actual\n",
    "current_month = datetime.datetime.now().month\n",
    "\n",
    "####\n",
    "# Parsea nombre fichero para extraer codigo de Franquiciado y año de los datos\n",
    "\n",
    "# Extraer el código de Franquiciado y el año\n",
    "last_dot_index = file_path.rfind('.')\n",
    "\n",
    "if last_dot_index != -1:\n",
    "    codigo_Franquiciado = file_path[last_dot_index - 7:last_dot_index - 4]\n",
    "    year = file_path[last_dot_index - 4:last_dot_index]\n",
    "    print(f\"Código de Franquiciado: {codigo_Franquiciado}\")\n",
    "    print(f\"Año: {year}\")\n",
    "else:\n",
    "    print(\"No se encontró un punto en el nombre del archivo.\")\n",
    "\n",
    "# Formatear el nombre del archivo con el mes actual\n",
    "output_path = f'{file_without_extension}_{current_month}.csv'\n",
    "print(f\"Ruta de salida: {output_path}\")\n",
    "\n",
    "# Formatear el nombre del fichero en crudo\n",
    "file_name_without_extension = os.path.splitext(file)[0]\n",
    "raw_file = f'{db_path_INTERMEDIATE}raw_{file_name_without_extension}_{current_month}.csv'"
   ]
  },
  {
   "cell_type": "markdown",
   "metadata": {
    "id": "Ywid_NM5j-BC"
   },
   "source": [
    "# Conecta con Database Access y extrae tabla F_APU en un df"
   ]
  },
  {
   "cell_type": "code",
   "execution_count": 3,
   "metadata": {
    "colab": {
     "base_uri": "https://localhost:8080/",
     "height": 597
    },
    "id": "SzZvHVgD9fWm",
    "outputId": "8555d57d-6e67-4783-b8b9-0acbd66e252d"
   },
   "outputs": [
    {
     "name": "stderr",
     "output_type": "stream",
     "text": [
      "File not found\n",
      "Couldn't open database.\n"
     ]
    },
    {
     "ename": "CalledProcessError",
     "evalue": "Command 'mdb-tables -1 /Users/jordiariassantaella/Python_Projects/Alpha_Espai/POC/SUMAS_Y_SALDOS/2322024.accdb' returned non-zero exit status 1.",
     "output_type": "error",
     "traceback": [
      "\u001b[0;31m---------------------------------------------------------------------------\u001b[0m",
      "\u001b[0;31mCalledProcessError\u001b[0m                        Traceback (most recent call last)",
      "Cell \u001b[0;32mIn[3], line 3\u001b[0m\n\u001b[1;32m      1\u001b[0m \u001b[38;5;66;03m# Comando para listar las tablas en la base de datos\u001b[39;00m\n\u001b[1;32m      2\u001b[0m list_tables_cmd \u001b[38;5;241m=\u001b[39m \u001b[38;5;124mf\u001b[39m\u001b[38;5;124m'\u001b[39m\u001b[38;5;124mmdb-tables -1 \u001b[39m\u001b[38;5;132;01m{\u001b[39;00maccess_file_path\u001b[38;5;132;01m}\u001b[39;00m\u001b[38;5;124m'\u001b[39m\n\u001b[0;32m----> 3\u001b[0m tables \u001b[38;5;241m=\u001b[39m \u001b[43msubprocess\u001b[49m\u001b[38;5;241;43m.\u001b[39;49m\u001b[43mcheck_output\u001b[49m\u001b[43m(\u001b[49m\u001b[43mlist_tables_cmd\u001b[49m\u001b[43m,\u001b[49m\u001b[43m \u001b[49m\u001b[43mshell\u001b[49m\u001b[38;5;241;43m=\u001b[39;49m\u001b[38;5;28;43;01mTrue\u001b[39;49;00m\u001b[43m)\u001b[49m\u001b[38;5;241m.\u001b[39mdecode()\u001b[38;5;241m.\u001b[39msplit()\n\u001b[1;32m      5\u001b[0m \u001b[38;5;66;03m# Verificar si la tabla existe\u001b[39;00m\n\u001b[1;32m      6\u001b[0m \u001b[38;5;28;01mif\u001b[39;00m table_name \u001b[38;5;129;01min\u001b[39;00m tables:\n\u001b[1;32m      7\u001b[0m     \u001b[38;5;66;03m# Comando para exportar la tabla a un archivo CSV\u001b[39;00m\n",
      "File \u001b[0;32m/Library/Frameworks/Python.framework/Versions/3.13/lib/python3.13/subprocess.py:472\u001b[0m, in \u001b[0;36mcheck_output\u001b[0;34m(timeout, *popenargs, **kwargs)\u001b[0m\n\u001b[1;32m    469\u001b[0m         empty \u001b[38;5;241m=\u001b[39m \u001b[38;5;124mb\u001b[39m\u001b[38;5;124m'\u001b[39m\u001b[38;5;124m'\u001b[39m\n\u001b[1;32m    470\u001b[0m     kwargs[\u001b[38;5;124m'\u001b[39m\u001b[38;5;124minput\u001b[39m\u001b[38;5;124m'\u001b[39m] \u001b[38;5;241m=\u001b[39m empty\n\u001b[0;32m--> 472\u001b[0m \u001b[38;5;28;01mreturn\u001b[39;00m \u001b[43mrun\u001b[49m\u001b[43m(\u001b[49m\u001b[38;5;241;43m*\u001b[39;49m\u001b[43mpopenargs\u001b[49m\u001b[43m,\u001b[49m\u001b[43m \u001b[49m\u001b[43mstdout\u001b[49m\u001b[38;5;241;43m=\u001b[39;49m\u001b[43mPIPE\u001b[49m\u001b[43m,\u001b[49m\u001b[43m \u001b[49m\u001b[43mtimeout\u001b[49m\u001b[38;5;241;43m=\u001b[39;49m\u001b[43mtimeout\u001b[49m\u001b[43m,\u001b[49m\u001b[43m \u001b[49m\u001b[43mcheck\u001b[49m\u001b[38;5;241;43m=\u001b[39;49m\u001b[38;5;28;43;01mTrue\u001b[39;49;00m\u001b[43m,\u001b[49m\n\u001b[1;32m    473\u001b[0m \u001b[43m           \u001b[49m\u001b[38;5;241;43m*\u001b[39;49m\u001b[38;5;241;43m*\u001b[39;49m\u001b[43mkwargs\u001b[49m\u001b[43m)\u001b[49m\u001b[38;5;241m.\u001b[39mstdout\n",
      "File \u001b[0;32m/Library/Frameworks/Python.framework/Versions/3.13/lib/python3.13/subprocess.py:577\u001b[0m, in \u001b[0;36mrun\u001b[0;34m(input, capture_output, timeout, check, *popenargs, **kwargs)\u001b[0m\n\u001b[1;32m    575\u001b[0m     retcode \u001b[38;5;241m=\u001b[39m process\u001b[38;5;241m.\u001b[39mpoll()\n\u001b[1;32m    576\u001b[0m     \u001b[38;5;28;01mif\u001b[39;00m check \u001b[38;5;129;01mand\u001b[39;00m retcode:\n\u001b[0;32m--> 577\u001b[0m         \u001b[38;5;28;01mraise\u001b[39;00m CalledProcessError(retcode, process\u001b[38;5;241m.\u001b[39margs,\n\u001b[1;32m    578\u001b[0m                                  output\u001b[38;5;241m=\u001b[39mstdout, stderr\u001b[38;5;241m=\u001b[39mstderr)\n\u001b[1;32m    579\u001b[0m \u001b[38;5;28;01mreturn\u001b[39;00m CompletedProcess(process\u001b[38;5;241m.\u001b[39margs, retcode, stdout, stderr)\n",
      "\u001b[0;31mCalledProcessError\u001b[0m: Command 'mdb-tables -1 /Users/jordiariassantaella/Python_Projects/Alpha_Espai/POC/SUMAS_Y_SALDOS/2322024.accdb' returned non-zero exit status 1."
     ]
    }
   ],
   "source": [
    "# Comando para listar las tablas en la base de datos\n",
    "list_tables_cmd = f'mdb-tables -1 {access_file_path}'\n",
    "tables = subprocess.check_output(list_tables_cmd, shell=True).decode().split()\n",
    "\n",
    "# Verificar si la tabla existe\n",
    "if table_name in tables:\n",
    "    # Comando para exportar la tabla a un archivo CSV\n",
    "    export_cmd = f'mdb-export {access_file_path} {table_name}'\n",
    "    df = pd.read_csv(subprocess.Popen(export_cmd, shell=True, stdout=subprocess.PIPE).stdout)\n",
    "\n",
    "    # Mostrar el DataFrame utilizando display\n",
    "    #display(df)\n",
    "else:\n",
    "    print(f\"La tabla '{table_name}' no existe en la base de datos.\")"
   ]
  },
  {
   "cell_type": "markdown",
   "metadata": {
    "id": "bcluCTlMBqDo"
   },
   "source": [
    "# Monta tabla con los datos relevantes"
   ]
  },
  {
   "cell_type": "code",
   "execution_count": 24,
   "metadata": {
    "colab": {
     "base_uri": "https://localhost:8080/",
     "height": 424
    },
    "id": "weEE4MiJHrrX",
    "outputId": "80f6e522-d43c-4a82-c386-4edccc89761b"
   },
   "outputs": [],
   "source": [
    "# Extrae columnas necesarias\n",
    "query = 'SELECT FECAPU, CUEAPU, CONAPU, IMPAPU, IMEAPU, \"D-HAPU\", DEPAPU FROM df'\n",
    "result = duckdb.sql(query)\n",
    "\n",
    "# Convert to DataFrame\n",
    "result_df = result.fetchdf()\n",
    "\n",
    "# Crea nuevas columnas para nombre de fichero\n",
    "result_df['Mes'] = current_month\n",
    "result_df['Año'] = year\n",
    "result_df['Franquiciado'] = codigo_Franquiciado\n",
    "\n",
    "# Mostrar el DataFrame utilizando display\n",
    "# display(result_df)"
   ]
  },
  {
   "cell_type": "markdown",
   "metadata": {
    "id": "y5-lnXXvvdm7"
   },
   "source": [
    "# Elimina filas con codigo DEPAPU igual a 0 (no asignados a una tienda) y ordena por DEPAPAU"
   ]
  },
  {
   "cell_type": "code",
   "execution_count": 25,
   "metadata": {
    "colab": {
     "base_uri": "https://localhost:8080/",
     "height": 424
    },
    "id": "SN7Z-g9AvMrm",
    "outputId": "2f414b09-1b8b-4295-b22f-fbe4f4096f5d"
   },
   "outputs": [],
   "source": [
    "# Combine filtering and sorting into a single SQL query\n",
    "query = \"\"\"\n",
    "SELECT *\n",
    "FROM result_df\n",
    "WHERE DEPAPU != 0\n",
    "ORDER BY CUEAPU;\n",
    "\"\"\"\n",
    "\n",
    "# Execute the query and get the result as a DataFrame\n",
    "filtered_sorted_df = duckdb.sql(query).df()\n",
    "\n",
    "# Display the filtered DataFrame\n",
    "# display(filtered_sorted_df)"
   ]
  },
  {
   "cell_type": "markdown",
   "metadata": {
    "id": "kh9ibatV6SUg"
   },
   "source": [
    "# Salva tabla en crudo sin agregar valores con fromato raw_XXX20XX.csv"
   ]
  },
  {
   "cell_type": "code",
   "execution_count": 26,
   "metadata": {
    "id": "ALHNXM026W9t"
   },
   "outputs": [],
   "source": [
    "# Guardar el DataFrame result en un archivo CSV\n",
    "#file_name_without_extension = os.path.splitext(file)[0]\n",
    "#raw_file = f'{db_path}raw_{file_name_without_extension}_{current_month}.csv'\n",
    "\n",
    "filtered_sorted_df.to_csv(raw_file, index=False)"
   ]
  },
  {
   "cell_type": "markdown",
   "metadata": {
    "id": "GDTmnkbs4dqu"
   },
   "source": [
    "# Sumar IMEAPU por coincidencia de codigo CUEAPU cuando sean iguales valores de D-HAPU y DEPAPU\n"
   ]
  },
  {
   "cell_type": "code",
   "execution_count": 27,
   "metadata": {
    "colab": {
     "base_uri": "https://localhost:8080/",
     "height": 424
    },
    "id": "TcMTYawP32R_",
    "outputId": "ad917fa4-54bb-45fd-fdd5-476308923772"
   },
   "outputs": [],
   "source": [
    "query = \"\"\"\n",
    "SELECT\n",
    "    CUEAPU,\n",
    "    \"D-HAPU\",\n",
    "    DEPAPU,\n",
    "    Año,\n",
    "    Mes,\n",
    "    Franquiciado,\n",
    "    SUM(IMEAPU) as total_IMEAPU,\n",
    "    COUNT(*) as cantidad_registros\n",
    "FROM filtered_sorted_df\n",
    "GROUP BY CUEAPU, \"D-HAPU\", DEPAPU, Año, Mes, Franquiciado;\n",
    "\"\"\"\n",
    "\n",
    "final_df = duckdb.sql(query).df()\n",
    "# display(final_df)"
   ]
  },
  {
   "cell_type": "markdown",
   "metadata": {
    "id": "rq-eRvNlCEOP"
   },
   "source": [
    "# Incorporar info Franquiciado por codigo DEAPU proveniente de fichero Masterfile_CODIGOS.csv"
   ]
  },
  {
   "cell_type": "code",
   "execution_count": 28,
   "metadata": {
    "colab": {
     "base_uri": "https://localhost:8080/",
     "height": 424
    },
    "id": "WSGjPTpAHoPh",
    "outputId": "990be170-db3e-41d8-9167-cba3bdab9398"
   },
   "outputs": [],
   "source": [
    "# First, read the CSV file into a table in DuckDB\n",
    "query_import = f\"\"\"\n",
    "CREATE OR REPLACE TABLE codigos AS\n",
    "SELECT * FROM read_csv_auto('{db_path}/Masterfile_CODIGOS.csv');\n",
    "\"\"\"\n",
    "duckdb.sql(query_import)\n",
    "\n",
    "# Now, perform the JOIN and create the final table\n",
    "query_join = \"\"\"\n",
    "CREATE OR REPLACE TABLE final_table AS\n",
    "SELECT\n",
    "    f.*,  -- all fields from final_df\n",
    "    c.SOCIEDAD,\n",
    "    c.CIF,\n",
    "    c.ATICA,\n",
    "    c.Provincia,\n",
    "    c.TIENDA,\n",
    "    c.\"Nº Tiendas\",\n",
    "    c.sociedad_2,\n",
    "\n",
    "FROM final_df f\n",
    "LEFT JOIN codigos c ON f.DEPAPU = c.EST;  -- changed DEPAPU to EST\n",
    "\"\"\"\n",
    "duckdb.sql(query_join)\n",
    "\n",
    "# Visualize the result\n",
    "final_df = duckdb.sql(\"SELECT * FROM final_table\").df()\n",
    "# display(final_df)"
   ]
  },
  {
   "cell_type": "markdown",
   "metadata": {
    "id": "-nF2M2ciov6O"
   },
   "source": [
    "# Salvar fichero Franquiciado (puede incluir más de una tienda)"
   ]
  },
  {
   "cell_type": "code",
   "execution_count": 29,
   "metadata": {
    "colab": {
     "base_uri": "https://localhost:8080/",
     "height": 35
    },
    "id": "tfZDLReGJhHI",
    "outputId": "dadd09d1-2e1c-4863-fe8a-03193172a1bc"
   },
   "outputs": [
    {
     "data": {
      "text/plain": [
       "'/Users/jordiariassantaella/Python_Projects/Alpha_Espai/POC/SUMAS_Y_SALDOS/INTERMEDIATE/2322024_10.csv'"
      ]
     },
     "metadata": {},
     "output_type": "display_data"
    }
   ],
   "source": [
    "# Guardar el DataFrame result en un archivo CSV\n",
    "#display(final_df)\n",
    "display (output_path)\n",
    "final_df.to_csv(output_path, index=False)"
   ]
  },
  {
   "cell_type": "markdown",
   "metadata": {
    "id": "D11AJ_oFFAhY"
   },
   "source": [
    "# Desagrega el fichero final por tienda (columna DEPAPU) y registra en directorio FINAL_RESULT con nombre: **Tienda_DEPAPU_año_mes.csv**"
   ]
  },
  {
   "cell_type": "code",
   "execution_count": 30,
   "metadata": {
    "colab": {
     "base_uri": "https://localhost:8080/"
    },
    "id": "KXKThM4_Dvq0",
    "outputId": "8e415b00-5165-4200-853c-25f1de6a69da"
   },
   "outputs": [
    {
     "name": "stdout",
     "output_type": "stream",
     "text": [
      "Datos separados en archivos CSV.\n"
     ]
    }
   ],
   "source": [
    "# Function to clean the TIENDA value\n",
    "def clean_tienda_value(tienda_value):\n",
    "    # Ensure the value is a string\n",
    "    if not isinstance(tienda_value, str):\n",
    "        return str(tienda_value)\n",
    "\n",
    "    # Use regex to remove any number at the end of the string, optionally preceded by a comma\n",
    "    cleaned_value = re.sub(r',?\\s*\\d+(,\\s*)?$', '', tienda_value)\n",
    "    return cleaned_value\n",
    "\n",
    "# Loop through unique DEPAPU values\n",
    "for depapu_value in final_df['DEPAPU'].unique():\n",
    "    # Filter the DataFrame based on the current DEPAPU value\n",
    "    df_filtered = final_df[final_df['DEPAPU'] == depapu_value]\n",
    "\n",
    "    # Loop through unique TIENDA values within the filtered DataFrame\n",
    "    for tienda_value in df_filtered['TIENDA'].unique():\n",
    "        # Clean the TIENDA value\n",
    "        cleaned_tienda_value = clean_tienda_value(tienda_value)\n",
    "\n",
    "        # Filter the DataFrame further based on the current TIENDA value\n",
    "        df_tienda = df_filtered[df_filtered['TIENDA'] == tienda_value]\n",
    "\n",
    "        # Check if the DataFrame is not empty\n",
    "        if not df_tienda.empty:\n",
    "            # Extract year and month values (assuming you have those columns)\n",
    "            year = df_tienda['Año'].iloc[0]  # Assuming year is consistent for each TIENDA\n",
    "            mes = df_tienda['Mes'].iloc[0]  # Assuming month is consistent for each TIENDA\n",
    "\n",
    "            # Construct the filename\n",
    "            filename = f\"{db_path_output}{cleaned_tienda_value}_{depapu_value}_{year}_{mes}.csv\"\n",
    "            #print (filename)\n",
    "\n",
    "            # Save the filtered DataFrame to a CSV file\n",
    "            df_tienda.to_csv(filename, index=False)\n",
    "\n",
    "# Print a message when the process is done\n",
    "print(\"Datos separados en archivos CSV.\")"
   ]
  }
 ],
 "metadata": {
  "colab": {
   "provenance": []
  },
  "kernelspec": {
   "display_name": ".venv",
   "language": "python",
   "name": "python3"
  },
  "language_info": {
   "codemirror_mode": {
    "name": "ipython",
    "version": 3
   },
   "file_extension": ".py",
   "mimetype": "text/x-python",
   "name": "python",
   "nbconvert_exporter": "python",
   "pygments_lexer": "ipython3",
   "version": "3.13.0"
  }
 },
 "nbformat": 4,
 "nbformat_minor": 0
}
